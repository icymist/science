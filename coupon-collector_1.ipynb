{
 "metadata": {
  "name": "",
  "signature": "sha256:fd68c942359fb8a0282f8811e2d685bb1b28d69635eaae691eda5656d326c95b"
 },
 "nbformat": 3,
 "nbformat_minor": 0,
 "worksheets": [
  {
   "cells": [
    {
     "cell_type": "heading",
     "level": 1,
     "metadata": {},
     "source": [
      "Coupon Collector's Problem"
     ]
    },
    {
     "cell_type": "heading",
     "level": 2,
     "metadata": {},
     "source": [
      "Take 2"
     ]
    },
    {
     "cell_type": "code",
     "collapsed": false,
     "input": [
      "import numpy as np\n",
      "from scipy.stats import describe"
     ],
     "language": "python",
     "metadata": {},
     "outputs": [],
     "prompt_number": 33
    },
    {
     "cell_type": "code",
     "collapsed": false,
     "input": [
      "for n in [10, 100, 1000]:\n",
      "    avg_ndraws = []\n",
      "    for itrial in range(100):\n",
      "        a = np.random.randint(n, size=10*n)\n",
      "        ndraws = 0\n",
      "        for i in range(len(a)):\n",
      "            nuniq = len(set(a[:i+1]))\n",
      "            if nuniq == n:\n",
      "                ndraws = i\n",
      "                avg_ndraws.append(ndraws)\n",
      "                break\n",
      "            \n",
      "    print describe(avg_ndraws)"
     ],
     "language": "python",
     "metadata": {},
     "outputs": [
      {
       "output_type": "stream",
       "stream": "stdout",
       "text": [
        "(100, (12, 78), 26.969999999999999, 164.67585858585858, 2.0782659919118864, 5.115881115930838)\n",
        "(98, (314, 982), 504.03061224489795, 13050.834104775931, 1.2226255698622155, 2.5876016277736413)"
       ]
      },
      {
       "output_type": "stream",
       "stream": "stdout",
       "text": [
        "\n",
        "(94, (4649, 9884), 7415.6170212765956, 1251066.2603523219, 0.17674330918941675, -0.4624404853584423)"
       ]
      },
      {
       "output_type": "stream",
       "stream": "stdout",
       "text": [
        "\n"
       ]
      }
     ],
     "prompt_number": 35
    },
    {
     "cell_type": "code",
     "collapsed": false,
     "input": [],
     "language": "python",
     "metadata": {},
     "outputs": []
    }
   ],
   "metadata": {}
  }
 ]
}