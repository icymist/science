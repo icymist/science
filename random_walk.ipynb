{
 "metadata": {
  "name": "",
  "signature": "sha256:9776f1a77fc62c9cd1b6cc9da7e3ffbbe322491560d480defa99c5bd4b84f8e3"
 },
 "nbformat": 3,
 "nbformat_minor": 0,
 "worksheets": [
  {
   "cells": [
    {
     "cell_type": "heading",
     "level": 1,
     "metadata": {},
     "source": [
      "Random Walks"
     ]
    },
    {
     "cell_type": "markdown",
     "metadata": {},
     "source": [
      "Script to demonstrate a one dimensional random walk."
     ]
    },
    {
     "cell_type": "markdown",
     "metadata": {},
     "source": [
      "We assume that a step can be taken either to the left or to the right. We would like to find out how far away from the starting we would find someone that is doing a random walk as a function of the steps that he/she has taken. We will find that the most probable position to find the random walker is always at the origin. But, the probability of finding it at distances farther away from the origin keeps increasing as the total number of steps taken increases."
     ]
    },
    {
     "cell_type": "code",
     "collapsed": false,
     "input": [
      "%matplotlib inline"
     ],
     "language": "python",
     "metadata": {},
     "outputs": [],
     "prompt_number": 1
    },
    {
     "cell_type": "code",
     "collapsed": false,
     "input": [
      "import numpy as np\n",
      "from numpy.random import choice\n",
      "import matplotlib.pyplot as plt\n",
      "from scipy.stats import gaussian_kde\n",
      "import itertools"
     ],
     "language": "python",
     "metadata": {},
     "outputs": [],
     "prompt_number": 2
    },
    {
     "cell_type": "markdown",
     "metadata": {},
     "source": [
      "Here we define the Walker class."
     ]
    },
    {
     "cell_type": "code",
     "collapsed": false,
     "input": [
      "class Walker():\n",
      "    def __init__(self, origin=0, nsteps=1000):\n",
      "        self._origin = 0\n",
      "        self._nsteps = nsteps\n",
      "        self._location = self._origin\n",
      "        self._choice = np.array([-1,1])\n",
      "        \n",
      "    \n",
      "    @property\n",
      "    def origin(self): return self._origin\n",
      "    \n",
      "\n",
      "    @property\n",
      "    def nsteps(self): return self._nsteps\n",
      "    \n",
      "    @property\n",
      "    def distance_from_origin(self):\n",
      "        return self._location - self._origin\n",
      "    \n",
      "    \n",
      "    def walk(self):\n",
      "        steps = choice(self._choice, self._nsteps)\n",
      "        self._location = self._origin + np.sum(steps)\n",
      "        return self\n",
      "    \n",
      "    \n",
      "    def walk2(self):\n",
      "        d = self._origin\n",
      "        for i in range(self._nsteps):\n",
      "            d += choice([-1,1], 1)\n",
      "        return d"
     ],
     "language": "python",
     "metadata": {},
     "outputs": [],
     "prompt_number": 3
    },
    {
     "cell_type": "markdown",
     "metadata": {},
     "source": [
      "This is the actual simulation where we set all the parameters and simulate. For each walker, we collect the distance from origin. We use this information later to plot a histogram of the distances where each walker is found at the end of the walk."
     ]
    },
    {
     "cell_type": "code",
     "collapsed": false,
     "input": [
      "nwalkers = [10000]\n",
      "nsteps = [100, 1000, 10000, 100000]\n",
      "origin = 0\n",
      "\n",
      "distance_from_origin_of_walkers = {}\n",
      "for inwalkers in nwalkers:\n",
      "    distance_from_origin_of_walkers[inwalkers] = {}\n",
      "    \n",
      "    for insteps in nsteps:\n",
      "        distance_from_origin_of_walkers[inwalkers][insteps] = {}\n",
      "\n",
      "        distance_travelled = []    \n",
      "        for iwalker in range(inwalkers):\n",
      "            walker = Walker(origin=origin, nsteps=insteps)\n",
      "            distance_travelled.append(walker.walk().distance_from_origin)\n",
      "        \n",
      "        distance_travelled = np.array(distance_travelled).flatten()\n",
      "        distance_from_origin_of_walkers[inwalkers][insteps]['distance_travelled'] = distance_travelled\n",
      "        "
     ],
     "language": "python",
     "metadata": {},
     "outputs": [],
     "prompt_number": 4
    },
    {
     "cell_type": "markdown",
     "metadata": {},
     "source": [
      "Here we make a histogram of the distances of all the walkers, and fit a kernel density estimator to the histogram. As expected, we find that the shape is Gaussian."
     ]
    },
    {
     "cell_type": "code",
     "collapsed": false,
     "input": [
      "colors = itertools.cycle(['blue', 'green', 'red', 'cyan'])\n",
      "for inwalkers in nwalkers:\n",
      "    for insteps in nsteps:\n",
      "        color = colors.next()\n",
      "        distance_travelled = distance_from_origin_of_walkers[inwalkers][insteps]['distance_travelled']\n",
      "        # plt.hist(distance_travelled, normed=True, color=color)\n",
      "        x_grid = np.linspace(-400,400,1001)\n",
      "        kernel = gaussian_kde(distance_travelled, bw_method=0.3)\n",
      "        plt.plot(x_grid, kernel.evaluate(x_grid), color=color, label='nsteps: %i' % (insteps))\n",
      "\n",
      "plt.xlabel('Distance')\n",
      "plt.ylabel('Probability')\n",
      "plt.legend()\n",
      "plt.axis([-400, 400, 0, 0.04])"
     ],
     "language": "python",
     "metadata": {},
     "outputs": [
      {
       "metadata": {},
       "output_type": "pyout",
       "prompt_number": 8,
       "text": [
        "[-400, 400, 0, 0.04]"
       ]
      },
      {
       "metadata": {},
       "output_type": "display_data",
       "png": "[encoded data removed]",
       "text": [
        "<matplotlib.figure.Figure at 0x10a90c990>"
       ]
      }
     ],
     "prompt_number": 8
    }
   ],
   "metadata": {}
  }
 ]
}