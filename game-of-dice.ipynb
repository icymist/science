{
 "metadata": {
  "name": "",
  "signature": "sha256:1b99500f78515f583a06bc0c674016b34aa53e647c228395fe26271ec29a6ad5"
 },
 "nbformat": 3,
 "nbformat_minor": 0,
 "worksheets": [
  {
   "cells": [
    {
     "cell_type": "code",
     "collapsed": false,
     "input": [
      "import numpy as np\n",
      "from numpy.random import randint"
     ],
     "language": "python",
     "metadata": {},
     "outputs": [],
     "prompt_number": 1
    },
    {
     "cell_type": "code",
     "collapsed": false,
     "input": [
      "class GameOfDice:\n",
      "    def __init__(self, nsides=6, nthrows=1, ntrials=1000, conditions=None):\n",
      "        self._nsides = nsides\n",
      "        self._nthrows = nthrows\n",
      "        self._ntrials = ntrials\n",
      "        self._conditions = conditions\n",
      "        \n",
      "    def play(self):\n",
      "        result = np.zeros(self._ntrials)\n",
      "        for i in range(self._ntrials):\n",
      "            t = randint(1, self._nsides+1, size=self._nthrows)\n",
      "            for cond in self._conditions:\n",
      "                if eval(cond):\n",
      "                    result[i] = 1\n",
      "        return result"
     ],
     "language": "python",
     "metadata": {},
     "outputs": [],
     "prompt_number": 2
    },
    {
     "cell_type": "code",
     "collapsed": false,
     "input": [
      "g = GameOfDice(nsides=4,\n",
      "               nthrows=2,\n",
      "               ntrials = 100000,\n",
      "               conditions=[\"sum(t) > 4\"])"
     ],
     "language": "python",
     "metadata": {},
     "outputs": [],
     "prompt_number": 3
    },
    {
     "cell_type": "code",
     "collapsed": false,
     "input": [
      "result = g.play()\n",
      "print np.mean(result)"
     ],
     "language": "python",
     "metadata": {},
     "outputs": [
      {
       "output_type": "stream",
       "stream": "stdout",
       "text": [
        "0.62507\n"
       ]
      }
     ],
     "prompt_number": 4
    }
   ],
   "metadata": {}
  }
 ]
}