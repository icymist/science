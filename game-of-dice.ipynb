{
 "metadata": {
  "name": "",
  "signature": "sha256:a3056cb761ed5b36822d5950b0c8e9150aa6763bc03c764832c0052f0185c90a"
 },
 "nbformat": 3,
 "nbformat_minor": 0,
 "worksheets": [
  {
   "cells": [
    {
     "cell_type": "code",
     "collapsed": false,
     "input": [
      "import numpy as np\n",
      "from numpy.random import randint"
     ],
     "language": "python",
     "metadata": {},
     "outputs": [],
     "prompt_number": 2
    },
    {
     "cell_type": "code",
     "collapsed": false,
     "input": [
      "class GameOfDice:\n",
      "    def __init__(self, nsides=6, nthrows=1, ntrials=1000, conditions=None):\n",
      "        self._nsides = nsides\n",
      "        self._nthrows = nthrows\n",
      "        self._ntrials = ntrials\n",
      "        self._conditions = conditions\n",
      "        \n",
      "    def play(self):\n",
      "        result = np.zeros(self._ntrials)\n",
      "        for i in range(self._ntrials):\n",
      "            t = randint(1, self._nsides+1, size=self._nthrows)\n",
      "            for cond in self._conditions:\n",
      "                if eval(cond):\n",
      "                    result[i] = 1\n",
      "        return result"
     ],
     "language": "python",
     "metadata": {},
     "outputs": [],
     "prompt_number": 3
    },
    {
     "cell_type": "code",
     "collapsed": false,
     "input": [
      "g = GameOfDice(nsides=6,\n",
      "               nthrows=3,\n",
      "               ntrials = 1000000,\n",
      "               conditions=[\"sum(t) == 11\"])\n",
      "result = g.play()\n",
      "print np.mean(result)"
     ],
     "language": "python",
     "metadata": {},
     "outputs": [
      {
       "output_type": "stream",
       "stream": "stdout",
       "text": [
        "0.124718\n"
       ]
      }
     ],
     "prompt_number": 27
    },
    {
     "cell_type": "code",
     "collapsed": false,
     "input": [],
     "language": "python",
     "metadata": {},
     "outputs": []
    }
   ],
   "metadata": {}
  }
 ]
}