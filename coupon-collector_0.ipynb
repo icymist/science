{
 "metadata": {
  "name": "",
  "signature": "sha256:da19638a710608af592afe4a4ec4309977f6385fe3500a0a5680c8b92af096c4"
 },
 "nbformat": 3,
 "nbformat_minor": 0,
 "worksheets": [
  {
   "cells": [
    {
     "cell_type": "heading",
     "level": 1,
     "metadata": {},
     "source": [
      "Coupon Collector's Problem"
     ]
    },
    {
     "cell_type": "markdown",
     "metadata": {},
     "source": [
      "Let us say that we have an infinte supply of balls of 10 colors in an urn. The question is how many times on average should we draw from the urn before we have drawn all 10 colors. This problem is also known as the Coupon Collector's problem. The issue there being, how long it will take for a coupon collector to collect the complete set."
     ]
    },
    {
     "cell_type": "markdown",
     "metadata": {},
     "source": [
      "The question came up when I was recently working on how many gas molecules should impinge on a surface before all the vacant sites are to be filled up under the assumption that the sticking coeffecient is 1 if the site is vacant and 0 otherwise, and the molecules reach the surface one after the other."
     ]
    },
    {
     "cell_type": "code",
     "collapsed": false,
     "input": [
      "import numpy as np"
     ],
     "language": "python",
     "metadata": {},
     "outputs": [],
     "prompt_number": 1
    },
    {
     "cell_type": "code",
     "collapsed": false,
     "input": [
      "def number_of_draws_for_all_colors(ncolors = 10):\n",
      "    cnt = 0\n",
      "    colors_drawn_so_far = []\n",
      "    while len(set(colors_drawn_so_far)) != ncolors:\n",
      "        colors_drawn_so_far.append(np.random.randint(ncolors, size=1)[0])\n",
      "        cnt += 1\n",
      "\n",
      "    return cnt"
     ],
     "language": "python",
     "metadata": {},
     "outputs": [],
     "prompt_number": 2
    },
    {
     "cell_type": "code",
     "collapsed": false,
     "input": [
      "for ncolors in [10, 100, 1000]:\n",
      "    ndraws = []\n",
      "    for itrial in range(1000):\n",
      "        ndraws.append(number_of_draws_for_all_colors(ncolors = ncolors))\n",
      "    print 'ncolors: %6.6i; avg_draws_to_all_colors: %4.2f' % (ncolors, np.mean(ndraws)/ncolors)"
     ],
     "language": "python",
     "metadata": {},
     "outputs": [
      {
       "output_type": "stream",
       "stream": "stdout",
       "text": [
        "ncolors: 000010; avg_draws_to_all_colors: 2.92\n",
        "ncolors: 000100; avg_draws_to_all_colors: 5.18"
       ]
      },
      {
       "output_type": "stream",
       "stream": "stdout",
       "text": [
        "\n",
        "ncolors: 001000; avg_draws_to_all_colors: 7.50"
       ]
      },
      {
       "output_type": "stream",
       "stream": "stdout",
       "text": [
        "\n"
       ]
      }
     ],
     "prompt_number": 5
    },
    {
     "cell_type": "markdown",
     "metadata": {},
     "source": [
      "And the answer seems to be that it gets harder and harder as the number of the colored balls in the urn increases. The exact answer for the problem is $nH_{n}$, where H is the Harmonic number."
     ]
    },
    {
     "cell_type": "markdown",
     "metadata": {},
     "source": [
      "The code above takes forever to finish for `ncolors >= 1E4`. And I guess the code can be optimized further. "
     ]
    }
   ],
   "metadata": {}
  }
 ]
}