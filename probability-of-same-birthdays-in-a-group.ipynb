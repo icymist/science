{
 "metadata": {
  "name": "",
  "signature": "sha256:dd9f39b81e3d24cc95b6f68f1ae9d2902c7ab7075875cde7263d8413dad9d647"
 },
 "nbformat": 3,
 "nbformat_minor": 0,
 "worksheets": [
  {
   "cells": [
    {
     "cell_type": "code",
     "collapsed": false,
     "input": [
      "%matplotlib inline"
     ],
     "language": "python",
     "metadata": {},
     "outputs": [],
     "prompt_number": 26
    },
    {
     "cell_type": "code",
     "collapsed": false,
     "input": [
      "import numpy as np\n",
      "from numpy.random import randint\n",
      "from itertools import count\n",
      "import matplotlib.pyplot as plt"
     ],
     "language": "python",
     "metadata": {},
     "outputs": [],
     "prompt_number": 20
    },
    {
     "cell_type": "code",
     "collapsed": false,
     "input": [
      "probability = []\n",
      "ntrials = 100000\n",
      "people_in_group = range(2,70)\n",
      "for number_of_people in people_in_group:\n",
      "    cnt_common_birthdays = 0\n",
      "    for i in range(ntrials):\n",
      "        random_birthdays = randint(365, size=number_of_people)\n",
      "        if len(set(random_birthdays)) < number_of_people:\n",
      "            cnt_common_birthdays += 1\n",
      "    probability.append(cnt_common_birthdays*100/float(ntrials))"
     ],
     "language": "python",
     "metadata": {},
     "outputs": [],
     "prompt_number": 36
    },
    {
     "cell_type": "code",
     "collapsed": false,
     "input": [
      "plt.plot(people_in_group, probability)"
     ],
     "language": "python",
     "metadata": {},
     "outputs": [
      {
       "metadata": {},
       "output_type": "pyout",
       "prompt_number": 37,
       "text": [
        "[<matplotlib.lines.Line2D at 0x10eef0750>]"
       ]
      },
      {
       "metadata": {},
       "output_type": "display_data",
       "png": "[encoded data removed]",
       "text": [
        "<matplotlib.figure.Figure at 0x10883cbd0>"
       ]
      }
     ],
     "prompt_number": 37
    },
    {
     "cell_type": "code",
     "collapsed": false,
     "input": [],
     "language": "python",
     "metadata": {},
     "outputs": []
    }
   ],
   "metadata": {}
  }
 ]
}