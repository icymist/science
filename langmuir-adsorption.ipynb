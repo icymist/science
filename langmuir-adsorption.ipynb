{
 "metadata": {
  "name": "",
  "signature": "sha256:60687ae7a6c1e28e0615e16b35bb49d185e92b67b02bf40230440346dd53dc82"
 },
 "nbformat": 3,
 "nbformat_minor": 0,
 "worksheets": [
  {
   "cells": [
    {
     "cell_type": "code",
     "collapsed": false,
     "input": [
      "import numpy as np\n",
      "%matplotlib inline\n",
      "import matplotlib.pyplot as plt"
     ],
     "language": "python",
     "metadata": {},
     "outputs": [],
     "prompt_number": 142
    },
    {
     "cell_type": "code",
     "collapsed": false,
     "input": [
      "class Surface:\n",
      "    def __init__(self, size):\n",
      "        self._surface = np.zeros(size,dtype=int)\n",
      "        self._dim = self._surface.ndim\n",
      "        \n",
      "    @property\n",
      "    def surface(self):\n",
      "        return self._surface\n",
      "    \n",
      "    def is_empty(self, site):\n",
      "        if self.surface[site] == 0:\n",
      "            return True\n",
      "        else:\n",
      "            return False\n",
      "        \n",
      "    def adsorb(self, site):\n",
      "        self._surface[site] = 1\n",
      "        \n",
      "    @property\n",
      "    def coverage(self):\n",
      "        return float(np.count_nonzero(self.surface))/self.surface.size\n",
      "    \n",
      "    @property\n",
      "    def is_fully_covered(self):\n",
      "        if self.surface.prod() != 0:\n",
      "            return True\n",
      "        else:\n",
      "            return False"
     ],
     "language": "python",
     "metadata": {},
     "outputs": [],
     "prompt_number": 71
    },
    {
     "cell_type": "code",
     "collapsed": false,
     "input": [
      "class Particle:\n",
      "    def __init__(self, position=(0,0)):\n",
      "        self._position = np.array(position)\n",
      "        \n",
      "    @property\n",
      "    def position(self):\n",
      "        return self._position\n",
      "    \n",
      "    @position.setter\n",
      "    def position(self, position):\n",
      "        self._position = position"
     ],
     "language": "python",
     "metadata": {},
     "outputs": [],
     "prompt_number": 72
    },
    {
     "cell_type": "code",
     "collapsed": false,
     "input": [
      "def random_site(surface):\n",
      "    site = []\n",
      "    for i in surface.surface.shape:\n",
      "        site.append(np.random.randint(0, i))\n",
      "    return tuple(site)"
     ],
     "language": "python",
     "metadata": {},
     "outputs": [],
     "prompt_number": 95
    },
    {
     "cell_type": "code",
     "collapsed": false,
     "input": [
      "def adsorb(site, particle, surface):\n",
      "    if surface.is_empty(site):\n",
      "        surface.adsorb(site)\n",
      "        particle.position = site\n",
      "        return particle, surface\n",
      "    else:\n",
      "        return None"
     ],
     "language": "python",
     "metadata": {},
     "outputs": [],
     "prompt_number": 122
    },
    {
     "cell_type": "code",
     "collapsed": false,
     "input": [
      "s = Surface((100,100))\n",
      "adsorption_times = []\n",
      "cnt = 0\n",
      "while not s.is_fully_covered:\n",
      "    p = Particle()\n",
      "    cnt += 1\n",
      "    ads = adsorb(random_site(s), p, s)\n",
      "    if ads:\n",
      "        adsorption_times.append(cnt)"
     ],
     "language": "python",
     "metadata": {},
     "outputs": [],
     "prompt_number": 153
    },
    {
     "cell_type": "code",
     "collapsed": false,
     "input": [
      "coverage = np.arange(1, s.surface.size+1)/float(s.surface.size)\n",
      "plt.plot(adsorption_times, coverage, '-')"
     ],
     "language": "python",
     "metadata": {},
     "outputs": [
      {
       "metadata": {},
       "output_type": "pyout",
       "prompt_number": 154,
       "text": [
        "[<matplotlib.lines.Line2D at 0x10910fe10>]"
       ]
      },
      {
       "metadata": {},
       "output_type": "display_data",
       "png": "[encoded data removed]",
       "text": [
        "<matplotlib.figure.Figure at 0x108cfa9d0>"
       ]
      }
     ],
     "prompt_number": 154
    },
    {
     "cell_type": "code",
     "collapsed": false,
     "input": [],
     "language": "python",
     "metadata": {},
     "outputs": []
    }
   ],
   "metadata": {}
  }
 ]
}