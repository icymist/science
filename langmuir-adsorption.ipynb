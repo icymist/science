{
 "cells": [
  {
   "cell_type": "code",
   "execution_count": 1,
   "metadata": {
    "collapsed": false
   },
   "outputs": [],
   "source": [
    "import numpy as np\n",
    "%matplotlib inline\n",
    "import matplotlib.pyplot as plt"
   ]
  },
  {
   "cell_type": "code",
   "execution_count": 2,
   "metadata": {
    "collapsed": false
   },
   "outputs": [],
   "source": [
    "class Surface:\n",
    "    def __init__(self, size):\n",
    "        self._surface = np.zeros(size,dtype=int)\n",
    "        self._dim = self._surface.ndim\n",
    "        \n",
    "    @property\n",
    "    def surface(self):\n",
    "        return self._surface\n",
    "    \n",
    "    def is_empty(self, site):\n",
    "        if self.surface[site] == 0:\n",
    "            return True\n",
    "        else:\n",
    "            return False\n",
    "        \n",
    "    def adsorb(self, site):\n",
    "        self._surface[site] = 1\n",
    "        \n",
    "    @property\n",
    "    def coverage(self):\n",
    "        return float(np.count_nonzero(self.surface))/self.surface.size\n",
    "    \n",
    "    @property\n",
    "    def is_fully_covered(self):\n",
    "        if self.surface.prod() != 0:\n",
    "            return True\n",
    "        else:\n",
    "            return False"
   ]
  },
  {
   "cell_type": "code",
   "execution_count": 3,
   "metadata": {
    "collapsed": false
   },
   "outputs": [],
   "source": [
    "class Particle:\n",
    "    def __init__(self, position=(0,0)):\n",
    "        self._position = np.array(position)\n",
    "        \n",
    "    @property\n",
    "    def position(self):\n",
    "        return self._position\n",
    "    \n",
    "    @position.setter\n",
    "    def position(self, position):\n",
    "        self._position = position"
   ]
  },
  {
   "cell_type": "code",
   "execution_count": 4,
   "metadata": {
    "collapsed": false
   },
   "outputs": [],
   "source": [
    "def random_site(surface):\n",
    "    site = []\n",
    "    for i in surface.surface.shape:\n",
    "        site.append(np.random.randint(0, i))\n",
    "    return tuple(site)"
   ]
  },
  {
   "cell_type": "code",
   "execution_count": 5,
   "metadata": {
    "collapsed": false
   },
   "outputs": [],
   "source": [
    "def adsorb(site, particle, surface):\n",
    "    if surface.is_empty(site):\n",
    "        surface.adsorb(site)\n",
    "        particle.position = site\n",
    "        return particle, surface\n",
    "    else:\n",
    "        return None"
   ]
  },
  {
   "cell_type": "code",
   "execution_count": 6,
   "metadata": {
    "collapsed": false
   },
   "outputs": [],
   "source": [
    "s = Surface((100,100))\n",
    "adsorption_times = []\n",
    "cnt = 0\n",
    "while not s.is_fully_covered:\n",
    "    p = Particle()\n",
    "    cnt += 1\n",
    "    ads = adsorb(random_site(s), p, s)\n",
    "    if ads:\n",
    "        adsorption_times.append(cnt)"
   ]
  },
  {
   "cell_type": "code",
   "execution_count": 7,
   "metadata": {
    "collapsed": false
   },
   "outputs": [
    {
     "data": {
      "text/plain": [
       "[<matplotlib.lines.Line2D at 0x2b733053e450>]"
      ]
     },
     "execution_count": 7,
     "metadata": {},
     "output_type": "execute_result"
    },
    {
     "data": {
      "image/png": "[encoded data removed]",
      "text/plain": [
       "<matplotlib.figure.Figure at 0x2b73165f26d0>"
      ]
     },
     "metadata": {},
     "output_type": "display_data"
    }
   ],
   "source": [
    "coverage = np.arange(1, s.surface.size+1)/float(s.surface.size)\n",
    "plt.plot(adsorption_times, coverage, '-')"
   ]
  },
  {
   "cell_type": "code",
   "execution_count": 18,
   "metadata": {
    "collapsed": false
   },
   "outputs": [],
   "source": [
    "grad = np.gradient(coverage, adsorption_times)"
   ]
  },
  {
   "cell_type": "code",
   "execution_count": 24,
   "metadata": {
    "collapsed": false
   },
   "outputs": [
    {
     "data": {
      "text/plain": [
       "[<matplotlib.lines.Line2D at 0x2b7330950b90>]"
      ]
     },
     "execution_count": 24,
     "metadata": {},
     "output_type": "execute_result"
    },
    {
     "data": {
      "image/png": "[encoded data removed]",
      "text/plain": [
       "<matplotlib.figure.Figure at 0x2b7330910250>"
      ]
     },
     "metadata": {},
     "output_type": "display_data"
    }
   ],
   "source": [
    "plt.semilogy(adsorption_times, grad)"
   ]
  },
  {
   "cell_type": "code",
   "execution_count": null,
   "metadata": {
    "collapsed": true
   },
   "outputs": [],
   "source": []
  }
 ],
 "metadata": {
  "kernelspec": {
   "display_name": "Python 2",
   "language": "python",
   "name": "python2"
  },
  "language_info": {
   "codemirror_mode": {
    "name": "ipython",
    "version": 2
   },
   "file_extension": ".py",
   "mimetype": "text/x-python",
   "name": "python",
   "nbconvert_exporter": "python",
   "pygments_lexer": "ipython2",
   "version": "2.7.9"
  }
 },
 "nbformat": 4,
 "nbformat_minor": 0
}
