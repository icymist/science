{
 "metadata": {
  "name": "",
  "signature": "sha256:25de4cafb74addd06b9973fc46b348f9cd1e26b37c0c2afd0fc3aa54eac68e22"
 },
 "nbformat": 3,
 "nbformat_minor": 0,
 "worksheets": [
  {
   "cells": [
    {
     "cell_type": "heading",
     "level": 1,
     "metadata": {},
     "source": [
      "Probability of distinct birthdays in a group"
     ]
    },
    {
     "cell_type": "markdown",
     "metadata": {},
     "source": [
      "Given `n` people in a group, what is the probability that each of them have a distinct birthday (ignoring the case of a leap year and assuming that an year has 365 days)."
     ]
    },
    {
     "cell_type": "markdown",
     "metadata": {},
     "source": [
      "The analytical answer is $$\\frac{365/(365-n)!}{365^{n}}$$"
     ]
    },
    {
     "cell_type": "code",
     "collapsed": false,
     "input": [
      "%matplotlib inline\n",
      "import matplotlib.pyplot as plt\n",
      "import numpy as np\n",
      "from math import factorial\n",
      "from decimal import Decimal"
     ],
     "language": "python",
     "metadata": {},
     "outputs": [],
     "prompt_number": 1
    },
    {
     "cell_type": "code",
     "collapsed": false,
     "input": [
      "def permutation(n, k):\n",
      "    return Decimal(factorial(n))/Decimal(factorial(n-k))"
     ],
     "language": "python",
     "metadata": {},
     "outputs": [],
     "prompt_number": 2
    },
    {
     "cell_type": "code",
     "collapsed": false,
     "input": [
      "def probability_of_distinct_birthdays(n):\n",
      "    return permutation(365, n)/Decimal(365**n)"
     ],
     "language": "python",
     "metadata": {},
     "outputs": [],
     "prompt_number": 3
    },
    {
     "cell_type": "code",
     "collapsed": false,
     "input": [
      "n = range(1, 365)\n",
      "prob = map(probability_of_distinct_birthdays, n)"
     ],
     "language": "python",
     "metadata": {},
     "outputs": [],
     "prompt_number": 4
    },
    {
     "cell_type": "code",
     "collapsed": false,
     "input": [
      "plt.plot(n, prob)\n",
      "plt.grid()"
     ],
     "language": "python",
     "metadata": {},
     "outputs": [
      {
       "metadata": {},
       "output_type": "display_data",
       "png": "[encoded data removed]",
       "text": [
        "<matplotlib.figure.Figure at 0x10862e990>"
       ]
      }
     ],
     "prompt_number": 5
    },
    {
     "cell_type": "code",
     "collapsed": false,
     "input": [
      "plt.semilogy(n, prob)\n",
      "plt.grid()"
     ],
     "language": "python",
     "metadata": {},
     "outputs": [
      {
       "metadata": {},
       "output_type": "display_data",
       "png": "[encoded data removed]",
       "text": [
        "<matplotlib.figure.Figure at 0x1086ae1d0>"
       ]
      }
     ],
     "prompt_number": 6
    },
    {
     "cell_type": "code",
     "collapsed": false,
     "input": [
      "for i, iprob in enumerate(prob):\n",
      "    if iprob < 0.5:\n",
      "        print i+1\n",
      "        break"
     ],
     "language": "python",
     "metadata": {},
     "outputs": [
      {
       "output_type": "stream",
       "stream": "stdout",
       "text": [
        "23\n"
       ]
      }
     ],
     "prompt_number": 7
    },
    {
     "cell_type": "markdown",
     "metadata": {},
     "source": [
      "So, even for a group as small as 23 people, there is a 50% chance that two people will share the same birthday!"
     ]
    }
   ],
   "metadata": {}
  }
 ]
}